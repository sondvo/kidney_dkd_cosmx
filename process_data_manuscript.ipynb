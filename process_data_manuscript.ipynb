{
 "cells": [
  {
   "cell_type": "code",
   "execution_count": 75,
   "id": "82f5c4dc-344d-4dae-bd4c-609e67d9221e",
   "metadata": {
    "execution": {
     "iopub.execute_input": "2025-10-18T05:47:39.897523Z",
     "iopub.status.busy": "2025-10-18T05:47:39.897342Z",
     "iopub.status.idle": "2025-10-18T05:47:39.901252Z",
     "shell.execute_reply": "2025-10-18T05:47:39.900773Z",
     "shell.execute_reply.started": "2025-10-18T05:47:39.897508Z"
    }
   },
   "outputs": [],
   "source": [
    "import pandas as pd\n",
    "import numpy as np\n",
    "import scipy\n",
    "import scanpy\n",
    "import h5py\n",
    "import os\n",
    "import msgpack\n",
    "import zlib\n",
    "from matplotlib import pyplot\n",
    "import anndata\n",
    "import scvi\n",
    "import zlib, msgpack, os\n",
    "import json\n",
    "import sqlite3\n",
    "import h5py\n",
    "import scipy\n",
    "import pandas as pd\n",
    "import anndata\n",
    "import traceback\n",
    "import h5py\n",
    "import numpy as np\n",
    "import bioalpha\n",
    "\n",
    "plt.rcParams['pdf.use14corefonts'] = True"
   ]
  },
  {
   "cell_type": "code",
   "execution_count": 2,
   "id": "e92dd667-b204-43d4-937f-fda58ecaeaa2",
   "metadata": {
    "execution": {
     "iopub.execute_input": "2025-10-18T04:59:32.597059Z",
     "iopub.status.busy": "2025-10-18T04:59:32.596956Z",
     "iopub.status.idle": "2025-10-18T04:59:32.601339Z",
     "shell.execute_reply": "2025-10-18T04:59:32.600930Z",
     "shell.execute_reply.started": "2025-10-18T04:59:32.597048Z"
    }
   },
   "outputs": [],
   "source": [
    "def run_scVI(adata, batchID='batch', n_dims=30):\n",
    "    # subset to HVGs\n",
    "    train_adata = adata[:, adata.var['highly_variable']].copy()\n",
    "    scvi.model.SCVI.setup_anndata(train_adata, layer='raw', batch_key=batchID)\n",
    "    \n",
    "    arches_params = {\n",
    "        \"use_layer_norm\": \"both\",\n",
    "        \"use_batch_norm\": \"none\",\n",
    "        \"encode_covariates\": True,\n",
    "        \"dropout_rate\": 0.2,\n",
    "        \"n_layers\": 2,\n",
    "    }\n",
    "    \n",
    "    vae = scvi.model.SCVI(train_adata, n_latent=n_dims, gene_likelihood=\"nb\", **arches_params)\n",
    "    # vae.train() # \n",
    "    vae.train(early_stopping=True,\n",
    "        train_size=0.9,\n",
    "        early_stopping_patience=45,\n",
    "        max_epochs=400, \n",
    "        batch_size=1024, \n",
    "        limit_train_batches=20)\n",
    "    \n",
    "    adata.obsm['X_scVI'] = vae.get_latent_representation()\n",
    "    \n",
    "    return {'adata': adata, 'vae': vae}\n",
    "\n",
    "\n",
    "def post_dimred_processing(adata, dimred='X_pca', n_neighbors=10, run_clustering=True):\n",
    "    # neighbourhood graph\n",
    "    print(\"knn graph\")\n",
    "    scanpy.pp.neighbors(adata, use_rep=dimred, n_neighbors=n_neighbors)\n",
    "    # UMAP\n",
    "    print(\"UMAP\")\n",
    "    scanpy.tl.umap(adata)\n",
    "    \n",
    "    # Leiden clustering\n",
    "    # if run_clustering:\n",
    "    #     list_leiden_res = [0.05, 0.1, 0.2, 0.3, 0.4, 0.5, 0.6, 0.7, 0.8, 0.9, 1.0]\n",
    "    #     print(\"Leiden clustering\")\n",
    "    #     for leiden_res in list_leiden_res:\n",
    "    #         print(leiden_res)\n",
    "    #         scanpy.tl.leiden(adata, resolution=leiden_res, key_added='leiden_'+str(leiden_res).replace(\".\", \"_\"))\n",
    "    \n",
    "    # print(\"Diffusion map\")\n",
    "    # scanpy.tl.diffmap(adata)\n",
    "    \n",
    "    return adata"
   ]
  },
  {
   "cell_type": "markdown",
   "id": "8cde4365-50c5-4998-9ec2-4c78e646e59e",
   "metadata": {},
   "source": [
    "### Normalization"
   ]
  },
  {
   "cell_type": "code",
   "execution_count": 53,
   "id": "bb66a35d-6991-48a5-b2f8-79b4b0a6645f",
   "metadata": {
    "execution": {
     "iopub.execute_input": "2025-10-18T05:35:36.079443Z",
     "iopub.status.busy": "2025-10-18T05:35:36.079005Z",
     "iopub.status.idle": "2025-10-18T05:35:36.777733Z",
     "shell.execute_reply": "2025-10-18T05:35:36.777256Z",
     "shell.execute_reply.started": "2025-10-18T05:35:36.079405Z"
    }
   },
   "outputs": [
    {
     "name": "stderr",
     "output_type": "stream",
     "text": [
      "/home/ub-sonvo-25d094476064960/.conda/envs/celltype_prediction/lib/python3.11/site-packages/anndata/_core/anndata.py:1818: UserWarning: Observation names are not unique. To make them unique, call `.obs_names_make_unique`.\n",
      "  utils.warn_names_duplicates(\"obs\")\n"
     ]
    }
   ],
   "source": [
    "adata = scanpy.read_h5ad('combined_cosmx.h5ad')"
   ]
  },
  {
   "cell_type": "code",
   "execution_count": 54,
   "id": "5d1d6d3b-4fe0-4e5d-82b3-1f20f3d5f3d2",
   "metadata": {
    "execution": {
     "iopub.execute_input": "2025-10-18T05:35:45.049429Z",
     "iopub.status.busy": "2025-10-18T05:35:45.049252Z",
     "iopub.status.idle": "2025-10-18T05:35:45.053743Z",
     "shell.execute_reply": "2025-10-18T05:35:45.053330Z",
     "shell.execute_reply.started": "2025-10-18T05:35:45.049417Z"
    }
   },
   "outputs": [
    {
     "data": {
      "text/plain": [
       "['DKD_1-3', 'Ctrl_1', 'DKD_2-3', 'Ctrl_2']\n",
       "Categories (4, object): ['Ctrl_1', 'Ctrl_2', 'DKD_1-3', 'DKD_2-3']"
      ]
     },
     "execution_count": 54,
     "metadata": {},
     "output_type": "execute_result"
    }
   ],
   "source": [
    "adata.obs['NANOSTRING_fovAnnotation'].unique()"
   ]
  },
  {
   "cell_type": "code",
   "execution_count": 55,
   "id": "37cc4d5a-3aac-4959-8342-9248cd54c95d",
   "metadata": {
    "execution": {
     "iopub.execute_input": "2025-10-18T05:35:54.645981Z",
     "iopub.status.busy": "2025-10-18T05:35:54.645795Z",
     "iopub.status.idle": "2025-10-18T05:35:54.684710Z",
     "shell.execute_reply": "2025-10-18T05:35:54.684423Z",
     "shell.execute_reply.started": "2025-10-18T05:35:54.645969Z"
    },
    "scrolled": true
   },
   "outputs": [
    {
     "data": {
      "text/plain": [
       "View of AnnData object with n_obs × n_vars = 71333 × 19\n",
       "    obs: 'BioTuring_Number of mRNA transcripts', 'BioTuring_Number of genes', 'BioTuring_Percentage of negative controls', 'BioTuring_Alexa-488_CD298_Membrane', 'BioTuring_Alexa-546_PanCK_Tumor', 'BioTuring_Alexa-594_CD45_Immune', 'BioTuring_Alexa-647_CD3_Immune', 'BioTuring_DAPI_DNA_Nuclei', 'NANOSTRING_fov', 'NANOSTRING_AspectRatio', 'NANOSTRING_Width', 'NANOSTRING_Height', 'NANOSTRING_Mean.CD45', 'NANOSTRING_Run_name', 'NANOSTRING_Slide_name', 'NANOSTRING_ISH.concentration', 'NANOSTRING_Commercial', 'NANOSTRING_Run_Slide_name', 'NANOSTRING_tissue', 'NANOSTRING_slide_ID_numeric', 'NANOSTRING_Run_Tissue_name', 'NANOSTRING_Panel', 'NANOSTRING_Diversity', 'NANOSTRING_totalcounts', 'NANOSTRING_log10totalcounts', 'NANOSTRING_background', 'NANOSTRING_remove_flagged_cells', 'NANOSTRING_nb_clus', 'NANOSTRING_cell_types_full', 'NANOSTRING_leiden_clus', 'NANOSTRING_Lees L Cluster 1', 'NANOSTRING_Lees L Cluster 1 truncated', 'NANOSTRING_Lees L Cluster 2', 'NANOSTRING_Lees L Cluster 2 truncated', 'NANOSTRING_Lees L Cluster 3', 'NANOSTRING_Lees L Cluster 3 truncated', 'NANOSTRING_Lees L Cluster 4', 'NANOSTRING_Lees L Cluster 4 truncated', 'NANOSTRING_nclust', 'NANOSTRING_fovAnnotation', 'BioTuring_TP_tissue_structure', 'BioTuring_900_HVG_leiden_on_scvi_1.0', 'BioTuring_900_HVG_leiden_on_scvi_1.5', 'BioTuring_900_HVG_leiden_on_scvi_2.0', 'BioTuring_manual_cell type_final', 'BioTuring_manual+prediction(ML)_celltype', 'simplified_bioturing_celltypes', 'NANOSTRING_simplified_celltypes', 'NANOSTRING_Area', 'Number of mRNA transcripts', 'Number of genes', 'Percentage of negative controls', 'BioTuring_Alexa-488_PanCK_Tumor', 'BioTuring_Alexa-546_Yellow_Immune', 'BioTuring_Alexa-594_CD298_B2M_Membrane', 'BioTuring_Alexa-647_CD45_Immune', 'BioTuring_AUCell scores - kidney CD4 T', 'BioTuring_Louvain clustering (resolution=0.7)', 'BioTuring_label', 'BioTuring_sup$clust', 'BioTuring_bioturing_1st_anno', 'BioTuring louvain (on scvi-vae)', 'BioTuring_cell type (old)', 'NANOSTRING_Mean.PanCK', 'NANOSTRING_Max.PanCK', 'NANOSTRING_Mean.CD68', 'NANOSTRING_Max.CD68', 'NANOSTRING_Mean.CD298_B2M', 'NANOSTRING_Max.CD298_B2M', 'NANOSTRING_Max.CD45', 'NANOSTRING_Mean.DAPI', 'NANOSTRING_Max.DAPI', 'Kidney-specific model (version 1)', 'AUCell scores - Lipid metabolism', 'AUCell scores - Chemokine/cytokine', 'AUCell scores - Inflammation', 'AUCell scores - Angiogenesis', 'AUCell scores - Cell cycle proliferation', 'test', 'Louvain sub-clustering (resolution=0.2)'\n",
       "    obsm: 'X_nanostring_norm_batch_correction', 'X_nanostring_norm_umap', 'X_pca', 'X_pca_(no_batch_corrected)', 'X_scvi_batch_correction', 'X_scvi_batch_correction_900_hvg', 'X_scvi_umap', 'X_scvi_umap_900_hvg', 'X_tsne', 'X_tsne_(perplexity=30)', 'X_umap_(n_neighbors=10)_-_pca_(no_batch_corrected)'\n",
       "    layers: 'raw'"
      ]
     },
     "execution_count": 55,
     "metadata": {},
     "output_type": "execute_result"
    }
   ],
   "source": [
    "neg_adata = adata[\n",
    "    :, adata.var_names.str.startswith('NegPrb')\n",
    "]\n",
    "neg_adata"
   ]
  },
  {
   "cell_type": "code",
   "execution_count": 63,
   "id": "3a465f2b-4ede-439f-923d-b4f8a225de39",
   "metadata": {
    "execution": {
     "iopub.execute_input": "2025-10-18T05:43:50.500974Z",
     "iopub.status.busy": "2025-10-18T05:43:50.500563Z",
     "iopub.status.idle": "2025-10-18T05:43:50.579615Z",
     "shell.execute_reply": "2025-10-18T05:43:50.578930Z",
     "shell.execute_reply.started": "2025-10-18T05:43:50.500941Z"
    }
   },
   "outputs": [],
   "source": [
    "all_samples = neg_adata.obs['NANOSTRING_fovAnnotation'].unique()\n",
    "all_samples_mean_negprb = []\n",
    "for sp in all_samples:\n",
    "    tmp_adata = neg_adata[\n",
    "        neg_adata.obs['NANOSTRING_fovAnnotation'] == sp\n",
    "    ]\n",
    "    all_samples_mean_negprb.append(\n",
    "        np.ravel(\n",
    "            tmp_adata.layers['raw'].sum(axis=0)\n",
    "        ) / tmp_adata.shape[0]\n",
    "    )"
   ]
  },
  {
   "cell_type": "code",
   "execution_count": 61,
   "id": "541e2dfc-06cd-4fb5-b8c8-c169927eb502",
   "metadata": {
    "execution": {
     "iopub.execute_input": "2025-10-18T05:39:39.720235Z",
     "iopub.status.busy": "2025-10-18T05:39:39.719914Z",
     "iopub.status.idle": "2025-10-18T05:39:39.723884Z",
     "shell.execute_reply": "2025-10-18T05:39:39.723196Z",
     "shell.execute_reply.started": "2025-10-18T05:39:39.720209Z"
    }
   },
   "outputs": [],
   "source": [
    "from matplotlib import pyplot as plt"
   ]
  },
  {
   "cell_type": "code",
   "execution_count": 76,
   "id": "e8379c1b-e788-47da-8cfa-2c72f7550a78",
   "metadata": {
    "execution": {
     "iopub.execute_input": "2025-10-18T05:47:45.613091Z",
     "iopub.status.busy": "2025-10-18T05:47:45.612914Z",
     "iopub.status.idle": "2025-10-18T05:47:45.751613Z",
     "shell.execute_reply": "2025-10-18T05:47:45.751255Z",
     "shell.execute_reply.started": "2025-10-18T05:47:45.613079Z"
    }
   },
   "outputs": [
    {
     "name": "stderr",
     "output_type": "stream",
     "text": [
      "/tmp/ipykernel_1579003/571413979.py:3: MatplotlibDeprecationWarning: The 'labels' parameter of boxplot() has been renamed 'tick_labels' since Matplotlib 3.9; support for the old name will be dropped in 3.11.\n",
      "  plt.boxplot(all_samples_mean_negprb, labels=all_samples)\n"
     ]
    },
    {
     "data": {
      "image/png": "[encoded data removed]",
      "text/plain": [
       "<Figure size 500x400 with 1 Axes>"
      ]
     },
     "metadata": {},
     "output_type": "display_data"
    }
   ],
   "source": [
    "# Create box plot\n",
    "plt.figure(figsize=(5, 4))\n",
    "plt.boxplot(all_samples_mean_negprb, labels=all_samples)\n",
    "\n",
    "for i, y in enumerate(all_samples_mean_negprb, start=1):\n",
    "    x = np.random.normal(i, 0.05, size=len(y))  # jitter around box i\n",
    "    plt.scatter(x, y, alpha=0.8, s=10, color='gray')\n",
    "\n",
    "plt.ylabel('Mean counts per cell per NegPrb')\n",
    "# plt.title('Boxplot of 4 Arrays')\n",
    "# plt.grid(axis='y', linestyle='--', alpha=0.7)\n",
    "plt.savefig('figs1_negprb.pdf')\n",
    "plt.show()"
   ]
  },
  {
   "cell_type": "code",
   "execution_count": 77,
   "id": "72160bd4-11cd-451e-9170-6b65c9452778",
   "metadata": {
    "execution": {
     "iopub.execute_input": "2025-10-18T05:49:33.101519Z",
     "iopub.status.busy": "2025-10-18T05:49:33.101287Z",
     "iopub.status.idle": "2025-10-18T05:49:33.149815Z",
     "shell.execute_reply": "2025-10-18T05:49:33.149186Z",
     "shell.execute_reply.started": "2025-10-18T05:49:33.101503Z"
    }
   },
   "outputs": [],
   "source": [
    "adata = adata[\n",
    "    :, \n",
    "    ~adata.var_names.str.startswith('NegPrb')\n",
    "]"
   ]
  },
  {
   "cell_type": "code",
   "execution_count": 153,
   "id": "12b59b16-2aa5-483b-9c66-6e919d75be19",
   "metadata": {},
   "outputs": [
    {
     "data": {
      "text/plain": [
       "View of AnnData object with n_obs × n_vars = 71333 × 989\n",
       "    obs: 'BioTuring_Number of mRNA transcripts', 'BioTuring_Number of genes', 'BioTuring_Percentage of negative controls', 'BioTuring_Alexa-488_CD298_Membrane', 'BioTuring_Alexa-546_PanCK_Tumor', 'BioTuring_Alexa-594_CD45_Immune', 'BioTuring_Alexa-647_CD3_Immune', 'BioTuring_DAPI_DNA_Nuclei', 'NANOSTRING_fov', 'NANOSTRING_AspectRatio', 'NANOSTRING_Width', 'NANOSTRING_Height', 'NANOSTRING_Mean.CD45', 'NANOSTRING_Run_name', 'NANOSTRING_Slide_name', 'NANOSTRING_ISH.concentration', 'NANOSTRING_Commercial', 'NANOSTRING_Run_Slide_name', 'NANOSTRING_tissue', 'NANOSTRING_slide_ID_numeric', 'NANOSTRING_Run_Tissue_name', 'NANOSTRING_Panel', 'NANOSTRING_Diversity', 'NANOSTRING_totalcounts', 'NANOSTRING_log10totalcounts', 'NANOSTRING_background', 'NANOSTRING_remove_flagged_cells', 'NANOSTRING_nb_clus', 'NANOSTRING_cell_types_full', 'NANOSTRING_leiden_clus', 'NANOSTRING_Lees L Cluster 1', 'NANOSTRING_Lees L Cluster 1 truncated', 'NANOSTRING_Lees L Cluster 2', 'NANOSTRING_Lees L Cluster 2 truncated', 'NANOSTRING_Lees L Cluster 3', 'NANOSTRING_Lees L Cluster 3 truncated', 'NANOSTRING_Lees L Cluster 4', 'NANOSTRING_Lees L Cluster 4 truncated', 'NANOSTRING_nclust', 'NANOSTRING_fovAnnotation', 'BioTuring_TP_tissue_structure', 'BioTuring_900_HVG_leiden_on_scvi_1.0', 'BioTuring_900_HVG_leiden_on_scvi_1.5', 'BioTuring_900_HVG_leiden_on_scvi_2.0', 'BioTuring_manual_cell type_final', 'BioTuring_manual+prediction(ML)_celltype', 'simplified_bioturing_celltypes', 'NANOSTRING_simplified_celltypes', 'NANOSTRING_Area', 'Number of mRNA transcripts', 'Number of genes', 'Percentage of negative controls', 'BioTuring_Alexa-488_PanCK_Tumor', 'BioTuring_Alexa-546_Yellow_Immune', 'BioTuring_Alexa-594_CD298_B2M_Membrane', 'BioTuring_Alexa-647_CD45_Immune', 'BioTuring_AUCell scores - kidney CD4 T', 'BioTuring_Louvain clustering (resolution=0.7)', 'BioTuring_label', 'BioTuring_sup$clust', 'BioTuring_bioturing_1st_anno', 'BioTuring louvain (on scvi-vae)', 'BioTuring_cell type (old)', 'NANOSTRING_Mean.PanCK', 'NANOSTRING_Max.PanCK', 'NANOSTRING_Mean.CD68', 'NANOSTRING_Max.CD68', 'NANOSTRING_Mean.CD298_B2M', 'NANOSTRING_Max.CD298_B2M', 'NANOSTRING_Max.CD45', 'NANOSTRING_Mean.DAPI', 'NANOSTRING_Max.DAPI', 'Kidney-specific model (version 1)', 'AUCell scores - Lipid metabolism', 'AUCell scores - Chemokine/cytokine', 'AUCell scores - Inflammation', 'AUCell scores - Angiogenesis', 'AUCell scores - Cell cycle proliferation', 'test', 'Louvain sub-clustering (resolution=0.2)'\n",
       "    obsm: 'X_pca', 'X_pca_(no_batch_corrected)', 'X_scvi_batch_correction', 'X_scvi_batch_correction_900_hvg', 'X_scvi_umap', 'X_scvi_umap_900_hvg', 'X_tsne', 'X_tsne_(perplexity=30)', 'X_nanostring_norm_batch_correction', 'X_nanostring_norm_umap', 'X_umap_(n_neighbors=10)_-_pca_(no_batch_corrected)'\n",
       "    layers: 'raw'"
      ]
     },
     "execution_count": 153,
     "metadata": {},
     "output_type": "execute_result"
    }
   ],
   "source": [
    "adata"
   ]
  },
  {
   "cell_type": "code",
   "execution_count": null,
   "id": "4e5d204d-caf7-4c45-8625-14e4a8508f4b",
   "metadata": {},
   "outputs": [],
   "source": [
    "adata.write_h5ad(\n",
    "    'MANUSCRIPT_DATA_2_SLIDES.h5ad'\n",
    ")"
   ]
  },
  {
   "cell_type": "markdown",
   "id": "edef416f-7d8a-433c-b16c-c8b60d632300",
   "metadata": {},
   "source": [
    "### normalize with cell area"
   ]
  },
  {
   "cell_type": "code",
   "execution_count": 80,
   "id": "3352c941-0c5a-4931-9148-f7782b1e4128",
   "metadata": {
    "execution": {
     "iopub.execute_input": "2025-10-18T05:49:47.488970Z",
     "iopub.status.busy": "2025-10-18T05:49:47.488697Z",
     "iopub.status.idle": "2025-10-18T05:49:47.753710Z",
     "shell.execute_reply": "2025-10-18T05:49:47.753075Z",
     "shell.execute_reply.started": "2025-10-18T05:49:47.488957Z"
    }
   },
   "outputs": [
    {
     "data": {
      "text/plain": [
       "array([1., 3., 1., ..., 1., 2., 1.])"
      ]
     },
     "execution_count": 80,
     "metadata": {},
     "output_type": "execute_result"
    }
   ],
   "source": [
    "adata.X.data"
   ]
  },
  {
   "cell_type": "code",
   "execution_count": 81,
   "id": "aa55d270-7243-4314-a52a-1f84bd75b053",
   "metadata": {
    "execution": {
     "iopub.execute_input": "2025-10-18T05:49:49.423699Z",
     "iopub.status.busy": "2025-10-18T05:49:49.423499Z",
     "iopub.status.idle": "2025-10-18T05:49:49.936402Z",
     "shell.execute_reply": "2025-10-18T05:49:49.935644Z",
     "shell.execute_reply.started": "2025-10-18T05:49:49.423686Z"
    }
   },
   "outputs": [
    {
     "data": {
      "text/plain": [
       "array([1., 3., 1., ..., 1., 2., 1.])"
      ]
     },
     "execution_count": 81,
     "metadata": {},
     "output_type": "execute_result"
    }
   ],
   "source": [
    "adata.layers['raw'].data"
   ]
  },
  {
   "cell_type": "code",
   "execution_count": 82,
   "id": "3c908022-5e1a-40b7-9295-93a2be469413",
   "metadata": {
    "execution": {
     "iopub.execute_input": "2025-10-18T05:49:53.124930Z",
     "iopub.status.busy": "2025-10-18T05:49:53.124695Z",
     "iopub.status.idle": "2025-10-18T05:49:53.128841Z",
     "shell.execute_reply": "2025-10-18T05:49:53.128440Z",
     "shell.execute_reply.started": "2025-10-18T05:49:53.124913Z"
    }
   },
   "outputs": [
    {
     "data": {
      "text/plain": [
       "['DKD_1-3', 'Ctrl_1', 'DKD_2-3', 'Ctrl_2']"
      ]
     },
     "execution_count": 82,
     "metadata": {},
     "output_type": "execute_result"
    }
   ],
   "source": [
    "adata.obs['NANOSTRING_fovAnnotation'].unique().tolist()"
   ]
  },
  {
   "cell_type": "code",
   "execution_count": 158,
   "id": "77cbfeee-753e-4f80-b817-e754db8ef49f",
   "metadata": {},
   "outputs": [],
   "source": [
    "adata.X = adata.X / adata.obs['NANOSTRING_Area'].values.reshape(adata.shape[0], 1) * np.mean(adata.obs['NANOSTRING_Area'].values)"
   ]
  },
  {
   "cell_type": "code",
   "execution_count": 159,
   "id": "d997a490-fbd6-43ef-8450-40419e65d70d",
   "metadata": {},
   "outputs": [],
   "source": [
    "adata.X = adata.X.tocsr()"
   ]
  },
  {
   "cell_type": "code",
   "execution_count": 160,
   "id": "d76363ab-b107-42cc-be5f-3a3f6c0db01e",
   "metadata": {},
   "outputs": [
    {
     "data": {
      "text/plain": [
       "array([1.75807824, 5.27423473, 1.75807824, ..., 2.57237101, 5.14474203,\n",
       "       2.57237101])"
      ]
     },
     "execution_count": 160,
     "metadata": {},
     "output_type": "execute_result"
    }
   ],
   "source": [
    "adata.X.data"
   ]
  },
  {
   "cell_type": "code",
   "execution_count": 161,
   "id": "cbee1bd8-7574-4241-82b8-1aacae4869eb",
   "metadata": {
    "scrolled": true
   },
   "outputs": [
    {
     "data": {
      "text/plain": [
       "array(['32', '79', '70', '103', '127', '31', '64', '56', '115', '131',\n",
       "       '38', '138', '120', '116', '102', '40', '77', '81', '53', '119',\n",
       "       '113', '60', '95', '136', '148', '45', '108', '267', '145', '150',\n",
       "       '25', '186', '183', '147', '135', '253', '84', '140', '134', '66',\n",
       "       '59', '76', '124', '155', '132', '55', '160', '122', '180', '78',\n",
       "       '99', '48', '101', '149', '179', '89', '63', '193', '162', '137',\n",
       "       '133', '82', '93', '110', '44', '90', '91', '114', '85', '34',\n",
       "       '163', '264', '29', '94', '19', '125', '118', '156', '27', '24',\n",
       "       '146', '172', '169', '72', '128', '49', '42', '96', '21', '22',\n",
       "       '13', '86', '73', '75', '117', '109', '166', '187', '144', '104',\n",
       "       '74', '83', '105', '112', '57', '107', '23', '98', '36', '18',\n",
       "       '28', '61', '68', '50', '154', '87', '41', '121', '47', '142',\n",
       "       '35', '26', '65', '62', '14', '37', '80', '39', '52', '69', '71',\n",
       "       '43', '33', '54', '51', '20', '17', '67', '97', '46', '100', '126',\n",
       "       '12', '16', '58', '111', '30', '88', '92', '106', '15', '171',\n",
       "       '141', '129', '159', '151', '139', '167', '152', '158', '143',\n",
       "       '185', '230', '130', '201', '123', '203', '195', '170', '278',\n",
       "       '198', '182', '194', '197', '177', '202', '153', '252', '164',\n",
       "       '189', '178', '165', '227', '208', '174', '157', '10', '8', '175',\n",
       "       '176', '220', '161', '184', '11', '6', '9', '241', '251', '216',\n",
       "       '196', '168', '204', '181', '191', '207', '257', '243', '280',\n",
       "       '270', '217', '236', '245', '250', '231', '212', '238', '223',\n",
       "       '190', '210', '255', '237', '219', '200', '232', '215', '192',\n",
       "       '274', '258', '221', '249', '214', '173', '205', '211', '199',\n",
       "       '242', '218', '318', '213', '226', '303', '281', '296', '288',\n",
       "       '273', '240', '224', '246', '222', '209', '188', '206', '247',\n",
       "       '316', '244', '229', '228', '262', '315', '248', '225', '235',\n",
       "       '314', '284', '283', '233', '259', '307', '319', '260', '254',\n",
       "       '292', '279', '310', '286', '266', '327', '325', '320', '290',\n",
       "       '268', '332', '239', '330', '263', '309', '261', '334', '275',\n",
       "       '234', '289', '272', '276', '285', '271', '337', '324', '277',\n",
       "       '291', '295', '282', '346', '300', '339', '297', '398', '305',\n",
       "       '265', '338', '388', '298', '323', '301', '326', 43.0, 147.0,\n",
       "       156.0, 97.0, 93.0, 130.0, 94.0, 104.0, 88.0, 52.0, 170.0, 105.0,\n",
       "       63.0, 190.0, 91.0, 217.0, 61.0, 71.0, 205.0, 178.0, 119.0, 106.0,\n",
       "       122.0, 183.0, 66.0, 181.0, 208.0, 151.0, 225.0, 39.0, 166.0, 90.0,\n",
       "       200.0, 107.0, 120.0, 160.0, 157.0, 144.0, 193.0, 42.0, 177.0,\n",
       "       161.0, 111.0, 191.0, 168.0, 162.0, 133.0, 74.0, 128.0, 199.0, 95.0,\n",
       "       124.0, 110.0, 146.0, 80.0, 57.0, 77.0, 73.0, 79.0, 145.0, 83.0,\n",
       "       113.0, 54.0, 202.0, 72.0, 53.0, 125.0, 241.0, 82.0, 150.0, 58.0,\n",
       "       46.0, 27.0, 56.0, 41.0, 101.0, 31.0, 69.0, 135.0, 153.0, 198.0,\n",
       "       92.0, 222.0, 75.0, 143.0, 192.0, 34.0, 23.0, 132.0, 173.0, 169.0,\n",
       "       26.0, 40.0, 28.0, 155.0, 102.0, 194.0, 163.0, 59.0, 231.0, 29.0,\n",
       "       175.0, 55.0, 172.0, 115.0, 81.0, 182.0, 37.0, 99.0, 131.0, 148.0,\n",
       "       64.0, 100.0, 322.0, 174.0, 89.0, 78.0, 134.0, 117.0, 276.0, 140.0,\n",
       "       158.0, 197.0, 136.0, 176.0, 252.0, 138.0, 141.0, 226.0, 126.0,\n",
       "       187.0, 159.0, 287.0, 123.0, 129.0, 184.0, 196.0, 139.0, 273.0,\n",
       "       211.0, 96.0, 149.0, 201.0, 164.0, 60.0, 228.0, 165.0, 116.0, 154.0,\n",
       "       65.0, 112.0, 84.0, 179.0, 38.0, 109.0, 213.0, 239.0, 35.0, 232.0,\n",
       "       152.0, 219.0, 121.0, 290.0, 142.0, 171.0, 249.0, 314.0, 260.0,\n",
       "       212.0, 103.0, 270.0, 67.0, 108.0, 25.0, 47.0, 44.0, 22.0, 16.0,\n",
       "       85.0, 48.0, 19.0, 76.0, 30.0, 45.0, 17.0, 33.0, 18.0, 87.0, 32.0,\n",
       "       36.0, 114.0, 51.0, 98.0, 50.0, 21.0, 15.0, 20.0, 24.0, 86.0, 49.0,\n",
       "       70.0, 62.0, 118.0, 68.0, 10.0, 127.0, 137.0, 14.0, 188.0, 12.0,\n",
       "       220.0, 180.0, 251.0, 189.0, 167.0, 13.0, 223.0, 238.0, 204.0, 11.0,\n",
       "       185.0, 218.0, 242.0, 245.0, 216.0, 224.0, 280.0, 207.0, 259.0,\n",
       "       256.0, 195.0, 214.0, 294.0, 186.0, 235.0, 209.0, 269.0, 310.0,\n",
       "       266.0, 261.0, 229.0, 7.0, 203.0, 243.0, 230.0, 206.0, 279.0, 237.0,\n",
       "       278.0, 271.0, 291.0, 244.0, 221.0, 254.0, 357.0, 233.0, 215.0,\n",
       "       247.0, 284.0, 304.0, 312.0, 240.0, 210.0, 236.0, 250.0, 337.0,\n",
       "       275.0, 248.0, 267.0, 400.0, 281.0, 363.0, 227.0, 264.0, 246.0,\n",
       "       309.0, 288.0, 289.0, 253.0, 431.0, 283.0, 342.0, 277.0, 300.0,\n",
       "       268.0, 234.0, 321.0, 295.0, 298.0, 307.0, 313.0, 263.0, 285.0,\n",
       "       257.0, 9.0, 265.0, 274.0, 258.0, 292.0, 255.0], dtype=object)"
      ]
     },
     "execution_count": 161,
     "metadata": {},
     "output_type": "execute_result"
    }
   ],
   "source": [
    "adata.obs['NANOSTRING_Diversity'].unique()"
   ]
  },
  {
   "cell_type": "code",
   "execution_count": 165,
   "id": "d1a47deb-cd94-4305-9518-e18c3e1c47d3",
   "metadata": {},
   "outputs": [],
   "source": [
    "for i in adata.obs.columns:\n",
    "    try:\n",
    "        adata.obs[i] = adata.obs[i].values.astype('float')\n",
    "    except:\n",
    "        continue"
   ]
  },
  {
   "cell_type": "code",
   "execution_count": 166,
   "id": "8f39069d-d3fa-4343-96d3-20a97cd58800",
   "metadata": {
    "scrolled": true
   },
   "outputs": [],
   "source": [
    "adata.write_h5ad('normalized_adata.h5ad')"
   ]
  },
  {
   "cell_type": "markdown",
   "id": "2f2000c7-21f6-4dc8-8537-fca5c3ced7f2",
   "metadata": {},
   "source": [
    "### Visualization"
   ]
  },
  {
   "cell_type": "code",
   "execution_count": 27,
   "id": "bdaeae89-4061-4c2d-9bd0-3cc18e13f4dc",
   "metadata": {},
   "outputs": [],
   "source": [
    "scanpy.pp.calculate_qc_metrics(\n",
    "    adata, percent_top=None, log1p=False, inplace=True\n",
    ")"
   ]
  },
  {
   "cell_type": "code",
   "execution_count": 28,
   "id": "6cf7c77c-64aa-447b-88e0-102f380447cf",
   "metadata": {},
   "outputs": [
    {
     "data": {
      "image/png": "[encoded data removed]",
      "text/plain": [
       "<Figure size 1011.11x500 with 2 Axes>"
      ]
     },
     "metadata": {},
     "output_type": "display_data"
    }
   ],
   "source": [
    "scanpy.pl.violin(\n",
    "    adata,\n",
    "    [\"n_genes_by_counts\", \"total_counts\"],\n",
    "    jitter=0.4,\n",
    "    multi_panel=True,\n",
    ")"
   ]
  },
  {
   "cell_type": "code",
   "execution_count": 29,
   "id": "4eaf35b3-dfc0-49c6-bb0a-73a8162454d6",
   "metadata": {
    "scrolled": true
   },
   "outputs": [
    {
     "data": {
      "image/png": "[encoded data removed]",
      "text/plain": [
       "<Figure size 500x550 with 1 Axes>"
      ]
     },
     "metadata": {},
     "output_type": "display_data"
    }
   ],
   "source": [
    "scanpy.pl.highest_expr_genes(adata, n_top=20)"
   ]
  },
  {
   "cell_type": "markdown",
   "id": "edce64b8-2d7e-469b-96b0-79b39f625613",
   "metadata": {},
   "source": [
    "### Batch correction with SCVI"
   ]
  },
  {
   "cell_type": "markdown",
   "id": "88a90201-3c20-42ca-a40e-a1b81ed2abef",
   "metadata": {},
   "source": [
    "**Note:** When comparing UMAP between 500 HVGs and 900 HVGs. \n",
    "\n",
    "- While 500 HVGs show seperated clusters of podocytes, 900 HVGs shows united cluster of podocytes\n",
    "- 900 HVGs bring podocytes and endothelial cells closer rather than 500 HVGs\n",
    "\n",
    "Conclusion: 900HVGs shows better performance"
   ]
  },
  {
   "cell_type": "code",
   "execution_count": 119,
   "id": "a3a9e130-1a0d-47b5-8945-eb0327622f2e",
   "metadata": {},
   "outputs": [],
   "source": [
    "adata = scanpy.read_h5ad('normalized_adata.h5ad')"
   ]
  },
  {
   "cell_type": "code",
   "execution_count": 167,
   "id": "2f308e51-353e-451d-88c0-201f91154c53",
   "metadata": {},
   "outputs": [
    {
     "data": {
      "text/plain": [
       "AnnData object with n_obs × n_vars = 71333 × 989\n",
       "    obs: 'BioTuring_Number of mRNA transcripts', 'BioTuring_Number of genes', 'BioTuring_Percentage of negative controls', 'BioTuring_Alexa-488_CD298_Membrane', 'BioTuring_Alexa-546_PanCK_Tumor', 'BioTuring_Alexa-594_CD45_Immune', 'BioTuring_Alexa-647_CD3_Immune', 'BioTuring_DAPI_DNA_Nuclei', 'NANOSTRING_fov', 'NANOSTRING_AspectRatio', 'NANOSTRING_Width', 'NANOSTRING_Height', 'NANOSTRING_Mean.CD45', 'NANOSTRING_Run_name', 'NANOSTRING_Slide_name', 'NANOSTRING_ISH.concentration', 'NANOSTRING_Commercial', 'NANOSTRING_Run_Slide_name', 'NANOSTRING_tissue', 'NANOSTRING_slide_ID_numeric', 'NANOSTRING_Run_Tissue_name', 'NANOSTRING_Panel', 'NANOSTRING_Diversity', 'NANOSTRING_totalcounts', 'NANOSTRING_log10totalcounts', 'NANOSTRING_background', 'NANOSTRING_remove_flagged_cells', 'NANOSTRING_nb_clus', 'NANOSTRING_cell_types_full', 'NANOSTRING_leiden_clus', 'NANOSTRING_Lees L Cluster 1', 'NANOSTRING_Lees L Cluster 1 truncated', 'NANOSTRING_Lees L Cluster 2', 'NANOSTRING_Lees L Cluster 2 truncated', 'NANOSTRING_Lees L Cluster 3', 'NANOSTRING_Lees L Cluster 3 truncated', 'NANOSTRING_Lees L Cluster 4', 'NANOSTRING_Lees L Cluster 4 truncated', 'NANOSTRING_nclust', 'NANOSTRING_fovAnnotation', 'BioTuring_TP_tissue_structure', 'BioTuring_900_HVG_leiden_on_scvi_1.0', 'BioTuring_900_HVG_leiden_on_scvi_1.5', 'BioTuring_900_HVG_leiden_on_scvi_2.0', 'BioTuring_manual_cell type_final', 'BioTuring_manual+prediction(ML)_celltype', 'simplified_bioturing_celltypes', 'NANOSTRING_simplified_celltypes', 'NANOSTRING_Area', 'Number of mRNA transcripts', 'Number of genes', 'Percentage of negative controls', 'BioTuring_Alexa-488_PanCK_Tumor', 'BioTuring_Alexa-546_Yellow_Immune', 'BioTuring_Alexa-594_CD298_B2M_Membrane', 'BioTuring_Alexa-647_CD45_Immune', 'BioTuring_AUCell scores - kidney CD4 T', 'BioTuring_Louvain clustering (resolution=0.7)', 'BioTuring_label', 'BioTuring_sup$clust', 'BioTuring_bioturing_1st_anno', 'BioTuring louvain (on scvi-vae)', 'BioTuring_cell type (old)', 'NANOSTRING_Mean.PanCK', 'NANOSTRING_Max.PanCK', 'NANOSTRING_Mean.CD68', 'NANOSTRING_Max.CD68', 'NANOSTRING_Mean.CD298_B2M', 'NANOSTRING_Max.CD298_B2M', 'NANOSTRING_Max.CD45', 'NANOSTRING_Mean.DAPI', 'NANOSTRING_Max.DAPI', 'Kidney-specific model (version 1)', 'AUCell scores - Lipid metabolism', 'AUCell scores - Chemokine/cytokine', 'AUCell scores - Inflammation', 'AUCell scores - Angiogenesis', 'AUCell scores - Cell cycle proliferation', 'test', 'Louvain sub-clustering (resolution=0.2)'\n",
       "    obsm: 'X_pca', 'X_pca_(no_batch_corrected)', 'X_scvi_batch_correction', 'X_scvi_batch_correction_900_hvg', 'X_scvi_umap', 'X_scvi_umap_900_hvg', 'X_tsne', 'X_tsne_(perplexity=30)', 'X_nanostring_norm_batch_correction', 'X_nanostring_norm_umap', 'X_umap_(n_neighbors=10)_-_pca_(no_batch_corrected)'\n",
       "    layers: 'raw'"
      ]
     },
     "execution_count": 167,
     "metadata": {},
     "output_type": "execute_result"
    }
   ],
   "source": [
    "adata"
   ]
  },
  {
   "cell_type": "code",
   "execution_count": 171,
   "id": "fb46d63b-0430-4765-86de-857df12b3877",
   "metadata": {},
   "outputs": [],
   "source": [
    "scanpy.pp.log1p(adata)"
   ]
  },
  {
   "cell_type": "code",
   "execution_count": 172,
   "id": "74f1f3d0-379f-4b30-ac8a-735ddc1970ff",
   "metadata": {},
   "outputs": [
    {
     "data": {
      "text/plain": [
       "array([1.01453415, 1.83645152, 1.01453415, ..., 1.27322952, 1.81559676,\n",
       "       1.27322952])"
      ]
     },
     "execution_count": 172,
     "metadata": {},
     "output_type": "execute_result"
    }
   ],
   "source": [
    "adata.X.data"
   ]
  },
  {
   "cell_type": "code",
   "execution_count": 173,
   "id": "e35afe37-f31e-46ce-9d1b-782c9b6d716c",
   "metadata": {},
   "outputs": [
    {
     "data": {
      "text/plain": [
       "['DKD_1-3', 'Ctrl_1', 'DKD_2-3', 'Ctrl_2']\n",
       "Categories (4, object): ['Ctrl_1', 'Ctrl_2', 'DKD_1-3', 'DKD_2-3']"
      ]
     },
     "execution_count": 173,
     "metadata": {},
     "output_type": "execute_result"
    }
   ],
   "source": [
    "adata.obs['NANOSTRING_fovAnnotation'].unique()"
   ]
  },
  {
   "cell_type": "code",
   "execution_count": 174,
   "id": "0a493c7d-25c4-4784-93d7-1b6838c80366",
   "metadata": {},
   "outputs": [],
   "source": [
    "subset_adata = adata.copy()"
   ]
  },
  {
   "cell_type": "code",
   "execution_count": 175,
   "id": "8234f01b-3b20-4c63-8c8d-e1eb22e37021",
   "metadata": {},
   "outputs": [],
   "source": [
    "scanpy.pp.highly_variable_genes(subset_adata, n_top_genes=700, batch_key='NANOSTRING_fovAnnotation')"
   ]
  },
  {
   "cell_type": "code",
   "execution_count": null,
   "id": "fecb01c5-da42-4eef-afd1-0c7b4e42e4cb",
   "metadata": {},
   "outputs": [
    {
     "name": "stderr",
     "output_type": "stream",
     "text": [
      "GPU available: True (cuda), used: True\n",
      "TPU available: False, using: 0 TPU cores\n",
      "IPU available: False, using: 0 IPUs\n",
      "HPU available: False, using: 0 HPUs\n",
      "LOCAL_RANK: 0 - CUDA_VISIBLE_DEVICES: [0,1,2,3]\n"
     ]
    },
    {
     "name": "stdout",
     "output_type": "stream",
     "text": [
      "Epoch 82/400:  20%|██████████████████████████                                                                                                     | 82/400 [00:22<01:29,  3.56it/s, v_num=1, train_loss_step=193, train_loss_epoch=191]"
     ]
    }
   ],
   "source": [
    "out_scVI = run_scVI(subset_adata, batchID=\"NANOSTRING_fovAnnotation\")"
   ]
  },
  {
   "cell_type": "code",
   "execution_count": null,
   "id": "ad9f26a4-9bc0-4b01-9166-d7a4dc329937",
   "metadata": {},
   "outputs": [],
   "source": [
    "subset_adata_scVI = out_scVI['adata'].copy()"
   ]
  },
  {
   "cell_type": "code",
   "execution_count": null,
   "id": "2fc42c68-c200-4f8d-a30b-3dbe66e6de4a",
   "metadata": {},
   "outputs": [],
   "source": [
    "for i in list(subset_adata_scVI.obsm.keys()):\n",
    "    if i != 'X_scVI':\n",
    "        del subset_adata_scVI.obsm[i]"
   ]
  },
  {
   "cell_type": "code",
   "execution_count": null,
   "id": "eea2d0b9-4a74-4eb9-a400-bc36af3f5481",
   "metadata": {},
   "outputs": [],
   "source": [
    "subset_adata_scVI.write_h5ad('scvi_object.h5ad')"
   ]
  },
  {
   "cell_type": "code",
   "execution_count": 181,
   "id": "52f93fab-049f-49c3-b85d-48f6c18cabc1",
   "metadata": {},
   "outputs": [
    {
     "data": {
      "text/plain": [
       "AnnData object with n_obs × n_vars = 71333 × 989\n",
       "    obs: 'BioTuring_Number of mRNA transcripts', 'BioTuring_Number of genes', 'BioTuring_Percentage of negative controls', 'BioTuring_Alexa-488_CD298_Membrane', 'BioTuring_Alexa-546_PanCK_Tumor', 'BioTuring_Alexa-594_CD45_Immune', 'BioTuring_Alexa-647_CD3_Immune', 'BioTuring_DAPI_DNA_Nuclei', 'NANOSTRING_fov', 'NANOSTRING_AspectRatio', 'NANOSTRING_Width', 'NANOSTRING_Height', 'NANOSTRING_Mean.CD45', 'NANOSTRING_Run_name', 'NANOSTRING_Slide_name', 'NANOSTRING_ISH.concentration', 'NANOSTRING_Commercial', 'NANOSTRING_Run_Slide_name', 'NANOSTRING_tissue', 'NANOSTRING_slide_ID_numeric', 'NANOSTRING_Run_Tissue_name', 'NANOSTRING_Panel', 'NANOSTRING_Diversity', 'NANOSTRING_totalcounts', 'NANOSTRING_log10totalcounts', 'NANOSTRING_background', 'NANOSTRING_remove_flagged_cells', 'NANOSTRING_nb_clus', 'NANOSTRING_cell_types_full', 'NANOSTRING_leiden_clus', 'NANOSTRING_Lees L Cluster 1', 'NANOSTRING_Lees L Cluster 1 truncated', 'NANOSTRING_Lees L Cluster 2', 'NANOSTRING_Lees L Cluster 2 truncated', 'NANOSTRING_Lees L Cluster 3', 'NANOSTRING_Lees L Cluster 3 truncated', 'NANOSTRING_Lees L Cluster 4', 'NANOSTRING_Lees L Cluster 4 truncated', 'NANOSTRING_nclust', 'NANOSTRING_fovAnnotation', 'BioTuring_TP_tissue_structure', 'BioTuring_900_HVG_leiden_on_scvi_1.0', 'BioTuring_900_HVG_leiden_on_scvi_1.5', 'BioTuring_900_HVG_leiden_on_scvi_2.0', 'BioTuring_manual_cell type_final', 'BioTuring_manual+prediction(ML)_celltype', 'simplified_bioturing_celltypes', 'NANOSTRING_simplified_celltypes', 'NANOSTRING_Area', 'Number of mRNA transcripts', 'Number of genes', 'Percentage of negative controls', 'BioTuring_Alexa-488_PanCK_Tumor', 'BioTuring_Alexa-546_Yellow_Immune', 'BioTuring_Alexa-594_CD298_B2M_Membrane', 'BioTuring_Alexa-647_CD45_Immune', 'BioTuring_AUCell scores - kidney CD4 T', 'BioTuring_Louvain clustering (resolution=0.7)', 'BioTuring_label', 'BioTuring_sup$clust', 'BioTuring_bioturing_1st_anno', 'BioTuring louvain (on scvi-vae)', 'BioTuring_cell type (old)', 'NANOSTRING_Mean.PanCK', 'NANOSTRING_Max.PanCK', 'NANOSTRING_Mean.CD68', 'NANOSTRING_Max.CD68', 'NANOSTRING_Mean.CD298_B2M', 'NANOSTRING_Max.CD298_B2M', 'NANOSTRING_Max.CD45', 'NANOSTRING_Mean.DAPI', 'NANOSTRING_Max.DAPI', 'Kidney-specific model (version 1)', 'AUCell scores - Lipid metabolism', 'AUCell scores - Chemokine/cytokine', 'AUCell scores - Inflammation', 'AUCell scores - Angiogenesis', 'AUCell scores - Cell cycle proliferation', 'test', 'Louvain sub-clustering (resolution=0.2)'\n",
       "    var: 'highly_variable', 'means', 'dispersions', 'dispersions_norm', 'highly_variable_nbatches', 'highly_variable_intersection'\n",
       "    uns: 'log1p', 'hvg'\n",
       "    obsm: 'X_scVI'\n",
       "    layers: 'raw'"
      ]
     },
     "execution_count": 181,
     "metadata": {},
     "output_type": "execute_result"
    }
   ],
   "source": [
    "subset_adata_scVI"
   ]
  },
  {
   "cell_type": "code",
   "execution_count": 193,
   "id": "cdbed3d8-e424-48ea-a02f-25481af28a92",
   "metadata": {},
   "outputs": [
    {
     "name": "stdout",
     "output_type": "stream",
     "text": [
      "knn graph\n",
      "UMAP\n"
     ]
    }
   ],
   "source": [
    "subset_adata_scVI = post_dimred_processing(subset_adata_scVI, dimred='X_scVI', n_neighbors=50)"
   ]
  },
  {
   "cell_type": "code",
   "execution_count": 184,
   "id": "a412280f-d035-40e2-84f6-3e775c224b22",
   "metadata": {},
   "outputs": [],
   "source": [
    "batch_correction_df = pd.DataFrame(subset_adata_scVI.obsm['X_scVI'], index=subset_adata_scVI.obs_names)\n",
    "batch_correction_df.to_csv('scvi_700_HVG.tsv', sep='\\t')"
   ]
  },
  {
   "cell_type": "code",
   "execution_count": 194,
   "id": "019ba294-b821-4ea4-b941-515de0d41446",
   "metadata": {},
   "outputs": [],
   "source": [
    "umap_df = pd.DataFrame(subset_adata_scVI.obsm['X_umap'], index=subset_adata_scVI.obs_names)\n",
    "umap_df.to_csv('scvi_700_HVG_UMAP_50neighbors.tsv', sep='\\t')"
   ]
  },
  {
   "cell_type": "markdown",
   "id": "2e8ba481-449b-457c-94a5-68fb6289f101",
   "metadata": {},
   "source": [
    "### Visiualization "
   ]
  },
  {
   "cell_type": "code",
   "execution_count": 186,
   "id": "9855966e-b356-4090-85ab-71819e077f69",
   "metadata": {},
   "outputs": [],
   "source": [
    "scanpy.tl.leiden(subset_adata_scVI, resolution=0.5, key_added='BIOTURING_700HVG_leiden_on_scvi_0.5')"
   ]
  },
  {
   "cell_type": "code",
   "execution_count": 187,
   "id": "ae2ef4bf-ee5e-4d77-a1ea-1a5db423d626",
   "metadata": {},
   "outputs": [],
   "source": [
    "scanpy.tl.leiden(subset_adata_scVI, resolution=1.0, key_added='BIOTURING_700HVG_leiden_on_scvi_1.0')"
   ]
  },
  {
   "cell_type": "code",
   "execution_count": 188,
   "id": "f05efcff-9e9b-4259-a953-a05a215fbc08",
   "metadata": {},
   "outputs": [],
   "source": [
    "scanpy.tl.leiden(subset_adata_scVI, resolution=1.5, key_added='BIOTURING_700HVG_leiden_on_scvi_1.5')"
   ]
  },
  {
   "cell_type": "code",
   "execution_count": 189,
   "id": "10c84b38-9e0e-4249-9175-bd0995b40ba4",
   "metadata": {},
   "outputs": [],
   "source": [
    "subset_adata_scVI.obs[\n",
    "    ['BIOTURING_700HVG_leiden_on_scvi_0.5', 'BIOTURING_700HVG_leiden_on_scvi_1.0', 'BIOTURING_700HVG_leiden_on_scvi_1.5']\n",
    "].to_csv('700HVG_leiden.tsv', sep='\\t')"
   ]
  },
  {
   "cell_type": "markdown",
   "id": "c3c4fca6-6f92-4641-91b3-4cd74d3d2394",
   "metadata": {},
   "source": [
    "## spreading labels"
   ]
  },
  {
   "cell_type": "code",
   "execution_count": 83,
   "id": "223ea593-55ce-4379-ab3e-db1e844c67f0",
   "metadata": {
    "execution": {
     "iopub.execute_input": "2025-10-18T05:52:34.811142Z",
     "iopub.status.busy": "2025-10-18T05:52:34.810929Z",
     "iopub.status.idle": "2025-10-18T05:52:34.815248Z",
     "shell.execute_reply": "2025-10-18T05:52:34.814754Z",
     "shell.execute_reply.started": "2025-10-18T05:52:34.811128Z"
    }
   },
   "outputs": [
    {
     "data": {
      "text/plain": [
       "View of AnnData object with n_obs × n_vars = 71333 × 989\n",
       "    obs: 'BioTuring_Number of mRNA transcripts', 'BioTuring_Number of genes', 'BioTuring_Percentage of negative controls', 'BioTuring_Alexa-488_CD298_Membrane', 'BioTuring_Alexa-546_PanCK_Tumor', 'BioTuring_Alexa-594_CD45_Immune', 'BioTuring_Alexa-647_CD3_Immune', 'BioTuring_DAPI_DNA_Nuclei', 'NANOSTRING_fov', 'NANOSTRING_AspectRatio', 'NANOSTRING_Width', 'NANOSTRING_Height', 'NANOSTRING_Mean.CD45', 'NANOSTRING_Run_name', 'NANOSTRING_Slide_name', 'NANOSTRING_ISH.concentration', 'NANOSTRING_Commercial', 'NANOSTRING_Run_Slide_name', 'NANOSTRING_tissue', 'NANOSTRING_slide_ID_numeric', 'NANOSTRING_Run_Tissue_name', 'NANOSTRING_Panel', 'NANOSTRING_Diversity', 'NANOSTRING_totalcounts', 'NANOSTRING_log10totalcounts', 'NANOSTRING_background', 'NANOSTRING_remove_flagged_cells', 'NANOSTRING_nb_clus', 'NANOSTRING_cell_types_full', 'NANOSTRING_leiden_clus', 'NANOSTRING_Lees L Cluster 1', 'NANOSTRING_Lees L Cluster 1 truncated', 'NANOSTRING_Lees L Cluster 2', 'NANOSTRING_Lees L Cluster 2 truncated', 'NANOSTRING_Lees L Cluster 3', 'NANOSTRING_Lees L Cluster 3 truncated', 'NANOSTRING_Lees L Cluster 4', 'NANOSTRING_Lees L Cluster 4 truncated', 'NANOSTRING_nclust', 'NANOSTRING_fovAnnotation', 'BioTuring_TP_tissue_structure', 'BioTuring_900_HVG_leiden_on_scvi_1.0', 'BioTuring_900_HVG_leiden_on_scvi_1.5', 'BioTuring_900_HVG_leiden_on_scvi_2.0', 'BioTuring_manual_cell type_final', 'BioTuring_manual+prediction(ML)_celltype', 'simplified_bioturing_celltypes', 'NANOSTRING_simplified_celltypes', 'NANOSTRING_Area', 'Number of mRNA transcripts', 'Number of genes', 'Percentage of negative controls', 'BioTuring_Alexa-488_PanCK_Tumor', 'BioTuring_Alexa-546_Yellow_Immune', 'BioTuring_Alexa-594_CD298_B2M_Membrane', 'BioTuring_Alexa-647_CD45_Immune', 'BioTuring_AUCell scores - kidney CD4 T', 'BioTuring_Louvain clustering (resolution=0.7)', 'BioTuring_label', 'BioTuring_sup$clust', 'BioTuring_bioturing_1st_anno', 'BioTuring louvain (on scvi-vae)', 'BioTuring_cell type (old)', 'NANOSTRING_Mean.PanCK', 'NANOSTRING_Max.PanCK', 'NANOSTRING_Mean.CD68', 'NANOSTRING_Max.CD68', 'NANOSTRING_Mean.CD298_B2M', 'NANOSTRING_Max.CD298_B2M', 'NANOSTRING_Max.CD45', 'NANOSTRING_Mean.DAPI', 'NANOSTRING_Max.DAPI', 'Kidney-specific model (version 1)', 'AUCell scores - Lipid metabolism', 'AUCell scores - Chemokine/cytokine', 'AUCell scores - Inflammation', 'AUCell scores - Angiogenesis', 'AUCell scores - Cell cycle proliferation', 'test', 'Louvain sub-clustering (resolution=0.2)'\n",
       "    obsm: 'X_nanostring_norm_batch_correction', 'X_nanostring_norm_umap', 'X_pca', 'X_pca_(no_batch_corrected)', 'X_scvi_batch_correction', 'X_scvi_batch_correction_900_hvg', 'X_scvi_umap', 'X_scvi_umap_900_hvg', 'X_tsne', 'X_tsne_(perplexity=30)', 'X_umap_(n_neighbors=10)_-_pca_(no_batch_corrected)'\n",
       "    layers: 'raw'"
      ]
     },
     "execution_count": 83,
     "metadata": {},
     "output_type": "execute_result"
    }
   ],
   "source": [
    "adata"
   ]
  },
  {
   "cell_type": "code",
   "execution_count": 85,
   "id": "6717d018-80bd-440d-aa8a-ca176d889853",
   "metadata": {
    "execution": {
     "iopub.execute_input": "2025-10-18T05:53:21.966224Z",
     "iopub.status.busy": "2025-10-18T05:53:21.965905Z",
     "iopub.status.idle": "2025-10-18T05:53:21.971604Z",
     "shell.execute_reply": "2025-10-18T05:53:21.970933Z",
     "shell.execute_reply.started": "2025-10-18T05:53:21.966198Z"
    }
   },
   "outputs": [
    {
     "data": {
      "text/plain": [
       "['Unassigned',\n",
       " 'Intercalated cell',\n",
       " 'Endothelial cell',\n",
       " 'Loop of Henle',\n",
       " 'Myofibroblast',\n",
       " 'Fibroblast',\n",
       " 'Principal cell',\n",
       " 'T cell',\n",
       " 'Proximal tubule',\n",
       " 'MNP_1',\n",
       " 'MNP_2',\n",
       " 'Distal Tubule',\n",
       " 'B cell / Plasma cell',\n",
       " 'Podocyte',\n",
       " 'Kidney epithelial cell',\n",
       " 'Mast cell']"
      ]
     },
     "execution_count": 85,
     "metadata": {},
     "output_type": "execute_result"
    }
   ],
   "source": [
    "adata.obs['simplified_bioturing_celltypes'].unique().tolist()"
   ]
  },
  {
   "cell_type": "code",
   "execution_count": 56,
   "id": "08719c9e-b862-41fe-bfa5-04ba7a0d59b0",
   "metadata": {},
   "outputs": [],
   "source": [
    "ref_adata = adata[\n",
    "    adata.obs['simplified_bioturing_celltypes'].values != 'Unassigned',\n",
    "    :\n",
    "]"
   ]
  },
  {
   "cell_type": "code",
   "execution_count": 57,
   "id": "d1f837e2-3a86-4ded-89ff-52d8406872fb",
   "metadata": {},
   "outputs": [],
   "source": [
    "query_adata = adata[\n",
    "    adata.obs['simplified_bioturing_celltypes'].values == 'Unassigned',\n",
    "    :\n",
    "]"
   ]
  },
  {
   "cell_type": "code",
   "execution_count": 61,
   "id": "6e2e341d-0209-465f-932a-f210f6cd9b1e",
   "metadata": {},
   "outputs": [
    {
     "name": "stderr",
     "output_type": "stream",
     "text": [
      "Trainer will use only 1 of 4 GPUs because it is running inside an interactive / notebook environment. You may try to set `Trainer(devices=4)` but please note that multi-GPU inside interactive / notebook environments is considered experimental and unstable. Your mileage may vary.\n",
      "GPU available: True (cuda), used: True\n",
      "TPU available: False, using: 0 TPU cores\n",
      "IPU available: False, using: 0 IPUs\n",
      "HPU available: False, using: 0 HPUs\n",
      "LOCAL_RANK: 0 - CUDA_VISIBLE_DEVICES: [0,1,2,3]\n",
      "/data/sonvo/.local/lib/python3.10/site-packages/lightning/pytorch/trainer/connectors/data_connector.py:441: The 'train_dataloader' does not have many workers which may be a bottleneck. Consider increasing the value of the `num_workers` argument` to `num_workers=191` in the `DataLoader` to improve performance.\n",
      "/data/sonvo/.local/lib/python3.10/site-packages/lightning/pytorch/trainer/connectors/data_connector.py:441: The 'val_dataloader' does not have many workers which may be a bottleneck. Consider increasing the value of the `num_workers` argument` to `num_workers=191` in the `DataLoader` to improve performance.\n"
     ]
    },
    {
     "name": "stdout",
     "output_type": "stream",
     "text": [
      "Epoch 400/400: 100%|███████████████████████████████| 400/400 [01:12<00:00,  6.08it/s, v_num=1, train_loss_step=281, train_loss_epoch=278]"
     ]
    },
    {
     "name": "stderr",
     "output_type": "stream",
     "text": [
      "`Trainer.fit` stopped: `max_epochs=400` reached.\n"
     ]
    },
    {
     "name": "stdout",
     "output_type": "stream",
     "text": [
      "Epoch 400/400: 100%|███████████████████████████████| 400/400 [01:12<00:00,  5.52it/s, v_num=1, train_loss_step=281, train_loss_epoch=278]\n"
     ]
    }
   ],
   "source": [
    "tmp_ref_adata = ref_adata.copy()\n",
    "\n",
    "scvi.model.SCVI.setup_anndata(tmp_ref_adata, layer='raw', batch_key='NANOSTRING_fovAnnotation')\n",
    "\n",
    "arches_params = {\n",
    "    \"use_layer_norm\": \"both\",\n",
    "    \"use_batch_norm\": \"none\",\n",
    "    \"encode_covariates\": True,\n",
    "    \"dropout_rate\": 0.2,\n",
    "    \"n_layers\": 2,\n",
    "}\n",
    "\n",
    "vae = scvi.model.SCVI(tmp_ref_adata, n_latent=20, gene_likelihood=\"nb\", **arches_params)\n",
    "# vae.train() # \n",
    "vae.train(early_stopping=True,\n",
    "    train_size=0.9,\n",
    "    early_stopping_patience=45,\n",
    "    max_epochs=400, \n",
    "    batch_size=1024, \n",
    "    limit_train_batches=20)\n"
   ]
  },
  {
   "cell_type": "code",
   "execution_count": 63,
   "id": "9ee4979a-439d-442c-9627-e9e12c8a7328",
   "metadata": {},
   "outputs": [
    {
     "data": {
      "text/plain": [
       "array(['Unassigned'], dtype=object)"
      ]
     },
     "execution_count": 63,
     "metadata": {},
     "output_type": "execute_result"
    }
   ],
   "source": [
    "query_adata.obs['simplified_bioturing_celltypes'].unique()"
   ]
  },
  {
   "cell_type": "code",
   "execution_count": 64,
   "id": "4e894eee-4728-4094-b72f-b9bfdc33bd91",
   "metadata": {},
   "outputs": [
    {
     "name": "stderr",
     "output_type": "stream",
     "text": [
      "/tmp/ipykernel_3683030/4113317162.py:3: ImplicitModificationWarning: Trying to modify attribute `.obs` of view, initializing view as actual.\n",
      "  ref_adata.obs[SCANVI_LABELS_KEY] = ref_adata.obs['manual_celltype'].values\n"
     ]
    }
   ],
   "source": [
    "SCANVI_LABELS_KEY = \"labels_scanvi\"\n",
    "\n",
    "ref_adata.obs[SCANVI_LABELS_KEY] = ref_adata.obs['simplified_bioturing_celltypes'].values"
   ]
  },
  {
   "cell_type": "code",
   "execution_count": 65,
   "id": "7280fb89-620b-499f-823d-a377488e8d25",
   "metadata": {},
   "outputs": [],
   "source": [
    "scanvi_ref = scvi.model.SCANVI.from_scvi_model(\n",
    "    vae,\n",
    "    unlabeled_category=\"Unassigned\",\n",
    "    labels_key='simplified_bioturing_celltypes',\n",
    ")"
   ]
  },
  {
   "cell_type": "code",
   "execution_count": 66,
   "id": "99a97101-2255-4bd4-aa06-d66a441ecf96",
   "metadata": {},
   "outputs": [
    {
     "name": "stdout",
     "output_type": "stream",
     "text": [
      "\u001b[34mINFO    \u001b[0m Training for \u001b[1;36m200\u001b[0m epochs.                                                                                  \n"
     ]
    },
    {
     "name": "stderr",
     "output_type": "stream",
     "text": [
      "Trainer will use only 1 of 4 GPUs because it is running inside an interactive / notebook environment. You may try to set `Trainer(devices=4)` but please note that multi-GPU inside interactive / notebook environments is considered experimental and unstable. Your mileage may vary.\n",
      "GPU available: True (cuda), used: True\n",
      "TPU available: False, using: 0 TPU cores\n",
      "IPU available: False, using: 0 IPUs\n",
      "HPU available: False, using: 0 HPUs\n",
      "LOCAL_RANK: 0 - CUDA_VISIBLE_DEVICES: [0,1,2,3]\n",
      "/data/sonvo/.local/lib/python3.10/site-packages/lightning/pytorch/trainer/connectors/data_connector.py:441: The 'train_dataloader' does not have many workers which may be a bottleneck. Consider increasing the value of the `num_workers` argument` to `num_workers=191` in the `DataLoader` to improve performance.\n"
     ]
    },
    {
     "name": "stdout",
     "output_type": "stream",
     "text": [
      "Epoch 200/200: 100%|███████████████████████████████| 200/200 [32:29<00:00,  9.81s/it, v_num=1, train_loss_step=259, train_loss_epoch=274]"
     ]
    },
    {
     "name": "stderr",
     "output_type": "stream",
     "text": [
      "`Trainer.fit` stopped: `max_epochs=200` reached.\n"
     ]
    },
    {
     "name": "stdout",
     "output_type": "stream",
     "text": [
      "Epoch 200/200: 100%|███████████████████████████████| 200/200 [32:29<00:00,  9.75s/it, v_num=1, train_loss_step=259, train_loss_epoch=274]\n"
     ]
    }
   ],
   "source": [
    "scanvi_ref.train(max_epochs=200, n_samples_per_label=500)"
   ]
  },
  {
   "cell_type": "code",
   "execution_count": 67,
   "id": "a273e769-a52a-4dfd-b0ce-4619362a492d",
   "metadata": {},
   "outputs": [],
   "source": [
    "tmp_query_adata = query_adata.copy()"
   ]
  },
  {
   "cell_type": "code",
   "execution_count": 68,
   "id": "0c9fe57b-1194-43a9-8db6-14c2b7ebf9c1",
   "metadata": {},
   "outputs": [],
   "source": [
    "del tmp_query_adata.obs['simplified_bioturing_celltypes']"
   ]
  },
  {
   "cell_type": "code",
   "execution_count": 69,
   "id": "de46f27e-a56a-43ac-b177-90f2511b909c",
   "metadata": {},
   "outputs": [
    {
     "name": "stderr",
     "output_type": "stream",
     "text": [
      "Trainer will use only 1 of 4 GPUs because it is running inside an interactive / notebook environment. You may try to set `Trainer(devices=4)` but please note that multi-GPU inside interactive / notebook environments is considered experimental and unstable. Your mileage may vary.\n",
      "/data/sonvo/.local/lib/python3.10/site-packages/scvi/data/_manager.py:209: UserWarning: Missing labels key manual_celltype. Filling in with unlabeled category Unknown.\n",
      "  field_registry[_constants._STATE_REGISTRY_KEY] = field.transfer_field(\n"
     ]
    }
   ],
   "source": [
    "scanvi_query = scvi.model.SCANVI.load_query_data(tmp_query_adata, scanvi_ref)"
   ]
  },
  {
   "cell_type": "code",
   "execution_count": 70,
   "id": "4e815dc8-a5fe-4503-a381-5c546f297fdd",
   "metadata": {},
   "outputs": [
    {
     "name": "stdout",
     "output_type": "stream",
     "text": [
      "\u001b[34mINFO    \u001b[0m Training for \u001b[1;36m200\u001b[0m epochs.                                                                                  \n"
     ]
    },
    {
     "name": "stderr",
     "output_type": "stream",
     "text": [
      "Trainer will use only 1 of 4 GPUs because it is running inside an interactive / notebook environment. You may try to set `Trainer(devices=4)` but please note that multi-GPU inside interactive / notebook environments is considered experimental and unstable. Your mileage may vary.\n",
      "GPU available: True (cuda), used: True\n",
      "TPU available: False, using: 0 TPU cores\n",
      "IPU available: False, using: 0 IPUs\n",
      "HPU available: False, using: 0 HPUs\n",
      "LOCAL_RANK: 0 - CUDA_VISIBLE_DEVICES: [0,1,2,3]\n",
      "/data/sonvo/.local/lib/python3.10/site-packages/lightning/pytorch/trainer/connectors/data_connector.py:441: The 'train_dataloader' does not have many workers which may be a bottleneck. Consider increasing the value of the `num_workers` argument` to `num_workers=191` in the `DataLoader` to improve performance.\n"
     ]
    },
    {
     "name": "stdout",
     "output_type": "stream",
     "text": [
      "Epoch 11/200:   5%|█▋                               | 10/200 [00:13<04:14,  1.34s/it, v_num=1, train_loss_step=211, train_loss_epoch=203]"
     ]
    },
    {
     "name": "stderr",
     "output_type": "stream",
     "text": [
      "/data/sonvo/.local/lib/python3.10/site-packages/lightning/pytorch/trainer/connectors/data_connector.py:441: The 'val_dataloader' does not have many workers which may be a bottleneck. Consider increasing the value of the `num_workers` argument` to `num_workers=191` in the `DataLoader` to improve performance.\n"
     ]
    },
    {
     "name": "stdout",
     "output_type": "stream",
     "text": [
      "Epoch 200/200: 100%|███████████████████████████████| 200/200 [04:34<00:00,  1.38s/it, v_num=1, train_loss_step=190, train_loss_epoch=213]"
     ]
    },
    {
     "name": "stderr",
     "output_type": "stream",
     "text": [
      "`Trainer.fit` stopped: `max_epochs=200` reached.\n"
     ]
    },
    {
     "name": "stdout",
     "output_type": "stream",
     "text": [
      "Epoch 200/200: 100%|███████████████████████████████| 200/200 [04:34<00:00,  1.37s/it, v_num=1, train_loss_step=190, train_loss_epoch=213]\n"
     ]
    }
   ],
   "source": [
    "scanvi_query.train(\n",
    "    max_epochs=200,\n",
    "    plan_kwargs={\"weight_decay\": 0.0},\n",
    "    check_val_every_n_epoch=10,\n",
    ")"
   ]
  },
  {
   "cell_type": "code",
   "execution_count": 71,
   "id": "7466f485-d1a5-40a1-b99a-de0a31c231bb",
   "metadata": {},
   "outputs": [
    {
     "name": "stderr",
     "output_type": "stream",
     "text": [
      "/tmp/ipykernel_3683030/1070132457.py:1: ImplicitModificationWarning: Trying to modify attribute `.obs` of view, initializing view as actual.\n",
      "  query_adata.obs['predicted_celltype'] = scanvi_query.predict()\n"
     ]
    }
   ],
   "source": [
    "query_adata.obs['predicted_celltype'] = scanvi_query.predict()"
   ]
  }
 ],
 "metadata": {
  "kernelspec": {
   "display_name": "celltype_prediction",
   "language": "python",
   "name": "celltype_prediction"
  },
  "language_info": {
   "codemirror_mode": {
    "name": "ipython",
    "version": 3
   },
   "file_extension": ".py",
   "mimetype": "text/x-python",
   "name": "python",
   "nbconvert_exporter": "python",
   "pygments_lexer": "ipython3",
   "version": "3.11.3"
  }
 },
 "nbformat": 4,
 "nbformat_minor": 5
}
